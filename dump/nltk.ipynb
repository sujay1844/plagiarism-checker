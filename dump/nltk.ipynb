{
 "cells": [
  {
   "cell_type": "code",
   "execution_count": 58,
   "metadata": {},
   "outputs": [],
   "source": [
    "import nltk\n",
    "nltk.data.path.append('/home/sujay1844/.local/share/nltk_data/')\n",
    "from nltk.corpus import movie_reviews\n",
    "from nltk.corpus import stopwords\n",
    "from nltk.tokenize import RegexpTokenizer\n",
    "from nltk.tokenize import word_tokenize"
   ]
  },
  {
   "cell_type": "code",
   "execution_count": 59,
   "metadata": {},
   "outputs": [],
   "source": [
    "# Random paragraph with 50 words\n",
    "PARA = \"The sun was setting over the rolling hills, casting a warm orange glow across the landscape. Birds chirped in the distance as a gentle breeze rustled the leaves of nearby trees. A lone figure stood atop a hill, gazing out at the beauty of nature before them. They took a deep breath of the fresh air and closed their eyes, feeling the warmth of the sun on their face. As the sky turned a deep shade of red, the figure began to descend the hill, making their way back towards civilization. It was a peaceful moment, one that they would remember for years to come.\""
   ]
  },
  {
   "cell_type": "code",
   "execution_count": 60,
   "metadata": {},
   "outputs": [],
   "source": [
    "words = word_tokenize(PARA)"
   ]
  },
  {
   "cell_type": "code",
   "execution_count": 61,
   "metadata": {},
   "outputs": [
    {
     "data": {
      "text/plain": [
       "[('The', 'DET'),\n",
       " ('sun', 'NOUN'),\n",
       " ('was', 'VERB'),\n",
       " ('setting', 'VERB'),\n",
       " ('over', 'ADP'),\n",
       " ('the', 'DET'),\n",
       " ('rolling', 'VERB'),\n",
       " ('hills', 'NOUN'),\n",
       " (',', '.'),\n",
       " ('casting', 'VERB'),\n",
       " ('a', 'DET'),\n",
       " ('warm', 'ADJ'),\n",
       " ('orange', 'NOUN'),\n",
       " ('glow', 'NOUN'),\n",
       " ('across', 'ADP'),\n",
       " ('the', 'DET'),\n",
       " ('landscape', 'NOUN'),\n",
       " ('.', '.'),\n",
       " ('Birds', 'NOUN'),\n",
       " ('chirped', 'VERB'),\n",
       " ('in', 'ADP'),\n",
       " ('the', 'DET'),\n",
       " ('distance', 'NOUN'),\n",
       " ('as', 'ADP'),\n",
       " ('a', 'DET'),\n",
       " ('gentle', 'ADJ'),\n",
       " ('breeze', 'NOUN'),\n",
       " ('rustled', 'VERB'),\n",
       " ('the', 'DET'),\n",
       " ('leaves', 'NOUN'),\n",
       " ('of', 'ADP'),\n",
       " ('nearby', 'ADJ'),\n",
       " ('trees', 'NOUN'),\n",
       " ('.', '.'),\n",
       " ('A', 'DET'),\n",
       " ('lone', 'ADJ'),\n",
       " ('figure', 'NOUN'),\n",
       " ('stood', 'VERB'),\n",
       " ('atop', 'VERB'),\n",
       " ('a', 'DET'),\n",
       " ('hill', 'NOUN'),\n",
       " (',', '.'),\n",
       " ('gazing', 'VERB'),\n",
       " ('out', 'PRT'),\n",
       " ('at', 'ADP'),\n",
       " ('the', 'DET'),\n",
       " ('beauty', 'NOUN'),\n",
       " ('of', 'ADP'),\n",
       " ('nature', 'NOUN'),\n",
       " ('before', 'ADP'),\n",
       " ('them', 'PRON'),\n",
       " ('.', '.'),\n",
       " ('They', 'PRON'),\n",
       " ('took', 'VERB'),\n",
       " ('a', 'DET'),\n",
       " ('deep', 'ADJ'),\n",
       " ('breath', 'NOUN'),\n",
       " ('of', 'ADP'),\n",
       " ('the', 'DET'),\n",
       " ('fresh', 'ADJ'),\n",
       " ('air', 'NOUN'),\n",
       " ('and', 'CONJ'),\n",
       " ('closed', 'VERB'),\n",
       " ('their', 'PRON'),\n",
       " ('eyes', 'NOUN'),\n",
       " (',', '.'),\n",
       " ('feeling', 'VERB'),\n",
       " ('the', 'DET'),\n",
       " ('warmth', 'NOUN'),\n",
       " ('of', 'ADP'),\n",
       " ('the', 'DET'),\n",
       " ('sun', 'NOUN'),\n",
       " ('on', 'ADP'),\n",
       " ('their', 'PRON'),\n",
       " ('face', 'NOUN'),\n",
       " ('.', '.'),\n",
       " ('As', 'ADP'),\n",
       " ('the', 'DET'),\n",
       " ('sky', 'NOUN'),\n",
       " ('turned', 'VERB'),\n",
       " ('a', 'DET'),\n",
       " ('deep', 'ADJ'),\n",
       " ('shade', 'NOUN'),\n",
       " ('of', 'ADP'),\n",
       " ('red', 'ADJ'),\n",
       " (',', '.'),\n",
       " ('the', 'DET'),\n",
       " ('figure', 'NOUN'),\n",
       " ('began', 'VERB'),\n",
       " ('to', 'PRT'),\n",
       " ('descend', 'VERB'),\n",
       " ('the', 'DET'),\n",
       " ('hill', 'NOUN'),\n",
       " (',', '.'),\n",
       " ('making', 'VERB'),\n",
       " ('their', 'PRON'),\n",
       " ('way', 'NOUN'),\n",
       " ('back', 'ADV'),\n",
       " ('towards', 'ADJ'),\n",
       " ('civilization', 'NOUN'),\n",
       " ('.', '.'),\n",
       " ('It', 'PRON'),\n",
       " ('was', 'VERB'),\n",
       " ('a', 'DET'),\n",
       " ('peaceful', 'ADJ'),\n",
       " ('moment', 'NOUN'),\n",
       " (',', '.'),\n",
       " ('one', 'NUM'),\n",
       " ('that', 'ADP'),\n",
       " ('they', 'PRON'),\n",
       " ('would', 'VERB'),\n",
       " ('remember', 'VERB'),\n",
       " ('for', 'ADP'),\n",
       " ('years', 'NOUN'),\n",
       " ('to', 'PRT'),\n",
       " ('come', 'VERB'),\n",
       " ('.', '.')]"
      ]
     },
     "execution_count": 61,
     "metadata": {},
     "output_type": "execute_result"
    }
   ],
   "source": [
    "# POS tagging\n",
    "pos_tags = nltk.pos_tag(words, tagset='universal')\n",
    "pos_tags"
   ]
  },
  {
   "cell_type": "code",
   "execution_count": 62,
   "metadata": {},
   "outputs": [
    {
     "name": "stdout",
     "output_type": "stream",
     "text": [
      "Collecting en-core-web-sm==3.3.0\n",
      "  Using cached https://github.com/explosion/spacy-models/releases/download/en_core_web_sm-3.3.0/en_core_web_sm-3.3.0-py3-none-any.whl (12.8 MB)\n",
      "Requirement already satisfied: spacy<3.4.0,>=3.3.0.dev0 in /home/sujay1844/.conda/envs/ml/lib/python3.10/site-packages (from en-core-web-sm==3.3.0) (3.3.1)\n",
      "Requirement already satisfied: jinja2 in /home/sujay1844/.local/lib/python3.10/site-packages (from spacy<3.4.0,>=3.3.0.dev0->en-core-web-sm==3.3.0) (3.1.2)\n",
      "Requirement already satisfied: pathy>=0.3.5 in /home/sujay1844/.conda/envs/ml/lib/python3.10/site-packages (from spacy<3.4.0,>=3.3.0.dev0->en-core-web-sm==3.3.0) (0.10.1)\n",
      "Requirement already satisfied: langcodes<4.0.0,>=3.2.0 in /home/sujay1844/.conda/envs/ml/lib/python3.10/site-packages (from spacy<3.4.0,>=3.3.0.dev0->en-core-web-sm==3.3.0) (3.3.0)\n",
      "Requirement already satisfied: tqdm<5.0.0,>=4.38.0 in /home/sujay1844/.local/lib/python3.10/site-packages (from spacy<3.4.0,>=3.3.0.dev0->en-core-web-sm==3.3.0) (4.64.1)\n",
      "Requirement already satisfied: srsly<3.0.0,>=2.4.3 in /home/sujay1844/.conda/envs/ml/lib/python3.10/site-packages (from spacy<3.4.0,>=3.3.0.dev0->en-core-web-sm==3.3.0) (2.4.6)\n",
      "Requirement already satisfied: cymem<2.1.0,>=2.0.2 in /home/sujay1844/.conda/envs/ml/lib/python3.10/site-packages (from spacy<3.4.0,>=3.3.0.dev0->en-core-web-sm==3.3.0) (2.0.6)\n",
      "Requirement already satisfied: spacy-loggers<2.0.0,>=1.0.0 in /home/sujay1844/.conda/envs/ml/lib/python3.10/site-packages (from spacy<3.4.0,>=3.3.0.dev0->en-core-web-sm==3.3.0) (1.0.1)\n",
      "Requirement already satisfied: catalogue<2.1.0,>=2.0.6 in /home/sujay1844/.conda/envs/ml/lib/python3.10/site-packages (from spacy<3.4.0,>=3.3.0.dev0->en-core-web-sm==3.3.0) (2.0.7)\n",
      "Requirement already satisfied: setuptools in /home/sujay1844/.conda/envs/ml/lib/python3.10/site-packages (from spacy<3.4.0,>=3.3.0.dev0->en-core-web-sm==3.3.0) (65.6.3)\n",
      "Requirement already satisfied: packaging>=20.0 in /home/sujay1844/.conda/envs/ml/lib/python3.10/site-packages (from spacy<3.4.0,>=3.3.0.dev0->en-core-web-sm==3.3.0) (22.0)\n",
      "Requirement already satisfied: numpy>=1.15.0 in /home/sujay1844/.local/lib/python3.10/site-packages (from spacy<3.4.0,>=3.3.0.dev0->en-core-web-sm==3.3.0) (1.23.0)\n",
      "Requirement already satisfied: wasabi<1.1.0,>=0.9.1 in /home/sujay1844/.conda/envs/ml/lib/python3.10/site-packages (from spacy<3.4.0,>=3.3.0.dev0->en-core-web-sm==3.3.0) (0.9.1)\n",
      "Requirement already satisfied: requests<3.0.0,>=2.13.0 in /home/sujay1844/.conda/envs/ml/lib/python3.10/site-packages (from spacy<3.4.0,>=3.3.0.dev0->en-core-web-sm==3.3.0) (2.28.1)\n",
      "Requirement already satisfied: preshed<3.1.0,>=3.0.2 in /home/sujay1844/.conda/envs/ml/lib/python3.10/site-packages (from spacy<3.4.0,>=3.3.0.dev0->en-core-web-sm==3.3.0) (3.0.6)\n",
      "Requirement already satisfied: spacy-legacy<3.1.0,>=3.0.9 in /home/sujay1844/.conda/envs/ml/lib/python3.10/site-packages (from spacy<3.4.0,>=3.3.0.dev0->en-core-web-sm==3.3.0) (3.0.9)\n",
      "Requirement already satisfied: typer<0.5.0,>=0.3.0 in /home/sujay1844/.conda/envs/ml/lib/python3.10/site-packages (from spacy<3.4.0,>=3.3.0.dev0->en-core-web-sm==3.3.0) (0.4.1)\n",
      "Requirement already satisfied: blis<0.8.0,>=0.4.0 in /home/sujay1844/.conda/envs/ml/lib/python3.10/site-packages (from spacy<3.4.0,>=3.3.0.dev0->en-core-web-sm==3.3.0) (0.7.7)\n",
      "Requirement already satisfied: murmurhash<1.1.0,>=0.28.0 in /home/sujay1844/.conda/envs/ml/lib/python3.10/site-packages (from spacy<3.4.0,>=3.3.0.dev0->en-core-web-sm==3.3.0) (1.0.7)\n",
      "Requirement already satisfied: pydantic!=1.8,!=1.8.1,<1.9.0,>=1.7.4 in /home/sujay1844/.conda/envs/ml/lib/python3.10/site-packages (from spacy<3.4.0,>=3.3.0.dev0->en-core-web-sm==3.3.0) (1.8.2)\n",
      "Requirement already satisfied: thinc<8.1.0,>=8.0.14 in /home/sujay1844/.conda/envs/ml/lib/python3.10/site-packages (from spacy<3.4.0,>=3.3.0.dev0->en-core-web-sm==3.3.0) (8.0.15)\n",
      "Requirement already satisfied: smart-open<7.0.0,>=5.2.1 in /home/sujay1844/.conda/envs/ml/lib/python3.10/site-packages (from pathy>=0.3.5->spacy<3.4.0,>=3.3.0.dev0->en-core-web-sm==3.3.0) (5.2.1)\n",
      "Requirement already satisfied: typing-extensions>=3.7.4.3 in /home/sujay1844/.conda/envs/ml/lib/python3.10/site-packages (from pydantic!=1.8,!=1.8.1,<1.9.0,>=1.7.4->spacy<3.4.0,>=3.3.0.dev0->en-core-web-sm==3.3.0) (4.4.0)\n",
      "Requirement already satisfied: idna<4,>=2.5 in /home/sujay1844/.conda/envs/ml/lib/python3.10/site-packages (from requests<3.0.0,>=2.13.0->spacy<3.4.0,>=3.3.0.dev0->en-core-web-sm==3.3.0) (3.4)\n",
      "Requirement already satisfied: charset-normalizer<3,>=2 in /home/sujay1844/.conda/envs/ml/lib/python3.10/site-packages (from requests<3.0.0,>=2.13.0->spacy<3.4.0,>=3.3.0.dev0->en-core-web-sm==3.3.0) (2.0.4)\n",
      "Requirement already satisfied: urllib3<1.27,>=1.21.1 in /home/sujay1844/.conda/envs/ml/lib/python3.10/site-packages (from requests<3.0.0,>=2.13.0->spacy<3.4.0,>=3.3.0.dev0->en-core-web-sm==3.3.0) (1.26.14)\n",
      "Requirement already satisfied: certifi>=2017.4.17 in /home/sujay1844/.conda/envs/ml/lib/python3.10/site-packages (from requests<3.0.0,>=2.13.0->spacy<3.4.0,>=3.3.0.dev0->en-core-web-sm==3.3.0) (2022.12.7)\n",
      "Requirement already satisfied: click<9.0.0,>=7.1.1 in /home/sujay1844/.local/lib/python3.10/site-packages (from typer<0.5.0,>=0.3.0->spacy<3.4.0,>=3.3.0.dev0->en-core-web-sm==3.3.0) (8.1.3)\n",
      "Requirement already satisfied: MarkupSafe>=2.0 in /home/sujay1844/.conda/envs/ml/lib/python3.10/site-packages (from jinja2->spacy<3.4.0,>=3.3.0.dev0->en-core-web-sm==3.3.0) (2.1.1)\n"
     ]
    },
    {
     "name": "stderr",
     "output_type": "stream",
     "text": [
      "\n",
      "[notice] A new release of pip available: 22.3.1 -> 23.0.1\n",
      "[notice] To update, run: pip install --upgrade pip\n"
     ]
    },
    {
     "name": "stdout",
     "output_type": "stream",
     "text": [
      "\u001b[38;5;2m✔ Download and installation successful\u001b[0m\n",
      "You can now load the package via spacy.load('en_core_web_sm')\n"
     ]
    }
   ],
   "source": [
    "import spacy\n",
    "spacy.cli.download('en_core_web_sm')\n",
    "nlp = spacy.load('en_core_web_sm')"
   ]
  },
  {
   "cell_type": "code",
   "execution_count": 63,
   "metadata": {},
   "outputs": [
    {
     "data": {
      "text/plain": [
       "['tok2vec', 'tagger', 'parser', 'attribute_ruler', 'lemmatizer', 'ner']"
      ]
     },
     "execution_count": 63,
     "metadata": {},
     "output_type": "execute_result"
    }
   ],
   "source": [
    "nlp.pipe_names"
   ]
  },
  {
   "cell_type": "code",
   "execution_count": 64,
   "metadata": {},
   "outputs": [],
   "source": [
    "doc = nlp(PARA)"
   ]
  },
  {
   "cell_type": "code",
   "execution_count": 65,
   "metadata": {},
   "outputs": [
    {
     "name": "stdout",
     "output_type": "stream",
     "text": [
      "The -> DET -> det\n",
      "sun -> NOUN -> nsubj\n",
      "was -> AUX -> aux\n",
      "setting -> VERB -> ROOT\n",
      "over -> ADP -> prt\n",
      "the -> DET -> det\n",
      "rolling -> ADJ -> amod\n",
      "hills -> NOUN -> dobj\n",
      ", -> PUNCT -> punct\n",
      "casting -> VERB -> advcl\n"
     ]
    }
   ],
   "source": [
    "for token in doc[:10]:\n",
    "\tprint(token.text, \"->\", token.pos_, \"->\", token.dep_)"
   ]
  },
  {
   "cell_type": "code",
   "execution_count": 71,
   "metadata": {},
   "outputs": [
    {
     "name": "stdout",
     "output_type": "stream",
     "text": [
      "Donald -> PERSON\n",
      "China -> GPE\n"
     ]
    }
   ],
   "source": [
    "doc = nlp(\"Donald and China don't get along\")\n",
    "for entity in doc.ents:\n",
    "\tprint(entity.text, '->', entity.label_)"
   ]
  },
  {
   "cell_type": "code",
   "execution_count": 75,
   "metadata": {},
   "outputs": [],
   "source": [
    "from spacy.matcher import Matcher\n",
    "doc1 = nlp('I have perfect skin')\n",
    "doc2 = nlp('I will skin you alive')\n",
    "pattern = [{'TEXT': 'skin'}, {'POS': 'NOUN'}]\n",
    "matcher = Matcher(nlp.vocab)"
   ]
  },
  {
   "cell_type": "code",
   "execution_count": 85,
   "metadata": {},
   "outputs": [
    {
     "data": {
      "text/plain": [
       "[]"
      ]
     },
     "execution_count": 85,
     "metadata": {},
     "output_type": "execute_result"
    }
   ],
   "source": [
    "matcher.add('skin', [pattern])\n",
    "matches = matcher(doc1)\n",
    "matches"
   ]
  },
  {
   "cell_type": "code",
   "execution_count": null,
   "metadata": {},
   "outputs": [],
   "source": []
  }
 ],
 "metadata": {
  "kernelspec": {
   "display_name": "ml",
   "language": "python",
   "name": "python3"
  },
  "language_info": {
   "codemirror_mode": {
    "name": "ipython",
    "version": 3
   },
   "file_extension": ".py",
   "mimetype": "text/x-python",
   "name": "python",
   "nbconvert_exporter": "python",
   "pygments_lexer": "ipython3",
   "version": "3.10.9"
  },
  "orig_nbformat": 4
 },
 "nbformat": 4,
 "nbformat_minor": 2
}
