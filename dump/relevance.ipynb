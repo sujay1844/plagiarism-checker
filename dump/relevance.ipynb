{
 "cells": [
  {
   "cell_type": "code",
   "execution_count": 5,
   "metadata": {},
   "outputs": [],
   "source": [
    "# essay = \"Starting your day with an invigorating activity can have numerous benefits for your overall health and well-being. One such activity involves getting outside, breathing in the fresh air, and engaging in gentle physical movement. This routine can help you kickstart your day with a positive mindset and give you the energy and clarity to tackle any challenges that come your way.  Spending time outdoors in the early hours of the day can also provide an opportunity for reflection and introspection, allowing you to center yourself before the demands of the day begin. Taking this time for yourself can help you prioritize your mental and emotional health, which is just as important as your physical health.  Additionally, engaging in this activity regularly can create a sense of routine and consistency in your daily life. Consistency is a key factor in building healthy habits and achieving your goals. Incorporating this activity into your daily routine can help you stay on track and motivated towards other areas of your life as well.  Overall, starting your day with an activity that allows you to connect with nature and yourself can have a profound impact on your well-being.\"\n",
    "essay = \"Dogs are one of the most beloved and loyal pets around the world. They are known for their affectionate nature, intelligence, and protective instincts. Dogs have been domesticated for thousands of years and have been bred for various purposes, including hunting, herding, guarding, and companionship.  One of the most striking features of dogs is their ability to form strong bonds with their human families. They are known to be loyal and faithful to their owners, often displaying affection and devotion towards them. This bond between dogs and humans is so strong that dogs have been used in therapy for individuals suffering from anxiety, depression, and PTSD.  Dogs are also intelligent creatures, with an ability to understand and follow commands. They can be trained for a variety of purposes, such as search and rescue, bomb detection, and guiding the visually impaired. Their natural instincts make them excellent at detecting changes in their environment, and they are often used in law enforcement to assist with investigations.  Apart from their working abilities, dogs are also wonderful companions. They provide unconditional love and support, which can have a positive impact on a person's mental and physical health. Owning a dog can help to reduce stress levels, lower blood pressure, and even boost the immune system.  Furthermore, dogs can help to create a sense of responsibility in their owners, especially in children. Caring for a dog requires daily attention, exercise, and feeding. This helps children to develop empathy, compassion, and a sense of responsibility towards others.  There are various breeds of dogs, each with its unique characteristics and traits. Some breeds are known for their high energy levels, while others are more laid-back and gentle. It is essential to research and understand the breed before bringing a dog into your home. This ensures that the dog's needs and temperament match the owner's lifestyle and expectations.  In conclusion, dogs are remarkable creatures that offer companionship, loyalty, and love to their owners. They have a special place in our hearts and have become an integral part of human society. Owning a dog is a significant responsibility, but the rewards of having a faithful companion by your side are immeasurable.\""
   ]
  },
  {
   "cell_type": "code",
   "execution_count": 6,
   "metadata": {},
   "outputs": [],
   "source": [
    "import gensim\n",
    "from gensim import corpora, models\n",
    "import nltk\n",
    "nltk.data.path.append('/home/sujay1844/.local/share/nltk_data/')\n",
    "from nltk.tokenize import sent_tokenize, word_tokenize\n",
    "from nltk.corpus import stopwords\n",
    "import string\n",
    "from nltk.stem import WordNetLemmatizer\n",
    "\n",
    "unwanted = set(stopwords.words('english')+list(string.punctuation)+['he', 'she', 'they', 'it'])\n",
    "lemma = WordNetLemmatizer()    \n",
    "\n",
    "def get_topic(essay):\n",
    "        docs = [essay]\n",
    "        texts = [[lemma.lemmatize(word).lower() for word in word_tokenize(doc) if word not in unwanted] for doc in docs]\n",
    "\n",
    "        # Create a dictionary from the tokenized documents\n",
    "        dictionary = corpora.Dictionary(texts)\n",
    "\n",
    "        # Create a document-term matrix\n",
    "        corpus = [dictionary.doc2bow(text) for text in texts]\n",
    "\n",
    "        # Train the LDA model\n",
    "        lda_model = models.LdaModel(corpus=corpus, id2word=dictionary, num_topics=5)\n",
    "\n",
    "        topic_word = lda_model.show_topic(topicid=0, topn=5)\n",
    "        return topic_word"
   ]
  },
  {
   "cell_type": "code",
   "execution_count": 7,
   "metadata": {},
   "outputs": [],
   "source": [
    "def calculate_relevance(title, keywords):\n",
    "    # Convert title to lowercase for case-insensitive matching\n",
    "    title = [lemma.lemmatize(word) for word in word_tokenize(title.lower())]\n",
    "\n",
    "    # Initialize a variable to keep track of the total relevance score\n",
    "    total_score = 0\n",
    "\n",
    "    # Loop over each keyword and calculate its relevance score\n",
    "    for i, (keyword, score) in enumerate(keywords):\n",
    "        # Check if the keyword is in the title\n",
    "        if keyword in title:\n",
    "            # If the keyword is found, calculate its relevance score based on its position in the list\n",
    "            position_score = (len(keywords) - i) / len(keywords)\n",
    "            total_score += position_score\n",
    "\n",
    "    return total_score / len(title)\n",
    "\n"
   ]
  },
  {
   "cell_type": "code",
   "execution_count": 8,
   "metadata": {},
   "outputs": [
    {
     "data": {
      "text/plain": [
       "1.0"
      ]
     },
     "execution_count": 8,
     "metadata": {},
     "output_type": "execute_result"
    }
   ],
   "source": [
    "calculate_relevance(\"Dogs\", get_topic(essay))"
   ]
  },
  {
   "cell_type": "code",
   "execution_count": null,
   "metadata": {},
   "outputs": [],
   "source": []
  }
 ],
 "metadata": {
  "kernelspec": {
   "display_name": "ml",
   "language": "python",
   "name": "python3"
  },
  "language_info": {
   "codemirror_mode": {
    "name": "ipython",
    "version": 3
   },
   "file_extension": ".py",
   "mimetype": "text/x-python",
   "name": "python",
   "nbconvert_exporter": "python",
   "pygments_lexer": "ipython3",
   "version": "3.10.9"
  },
  "orig_nbformat": 4
 },
 "nbformat": 4,
 "nbformat_minor": 2
}
