{
 "cells": [
  {
   "cell_type": "code",
   "execution_count": 1,
   "metadata": {},
   "outputs": [
    {
     "name": "stdout",
     "output_type": "stream",
     "text": [
      "0.14285714285714285\n"
     ]
    }
   ],
   "source": [
    "def get_ngrams(text, n):\n",
    "    # Convert the text to lowercase and remove all non-alphanumeric characters\n",
    "    text = ''.join(c for c in text.lower() if c.isalnum() or c.isspace())\n",
    "    # Split the text into words\n",
    "    words = text.split()\n",
    "    # Create a list of n-grams\n",
    "    ngrams = []\n",
    "    for i in range(len(words) - n + 1):\n",
    "        ngrams.append(' '.join(words[i:i+n]))\n",
    "    return ngrams\n",
    "\n",
    "def get_similarity(text1, text2, n):\n",
    "    # Get the n-grams for both texts\n",
    "    ngrams1 = get_ngrams(text1, n)\n",
    "    ngrams2 = get_ngrams(text2, n)\n",
    "    # Calculate the Jaccard similarity between the sets of n-grams\n",
    "    intersection = len(set(ngrams1) & set(ngrams2))\n",
    "    union = len(set(ngrams1) | set(ngrams2))\n",
    "    similarity = intersection / union\n",
    "    return similarity\n",
    "\n",
    "# Example usage\n",
    "text1 = \"The quick brown fox jumps over the lazy dog\"\n",
    "text2 = \"The lazy dog is jumped over by a quick brown fox\"\n",
    "n = 3 # 3-gram size\n",
    "similarity = get_similarity(text1, text2, n)\n",
    "print(similarity)"
   ]
  },
  {
   "cell_type": "code",
   "execution_count": null,
   "metadata": {},
   "outputs": [],
   "source": []
  }
 ],
 "metadata": {
  "kernelspec": {
   "display_name": "plagiarism-checker-C_ALrIvo",
   "language": "python",
   "name": "python3"
  },
  "language_info": {
   "codemirror_mode": {
    "name": "ipython",
    "version": 3
   },
   "file_extension": ".py",
   "mimetype": "text/x-python",
   "name": "python",
   "nbconvert_exporter": "python",
   "pygments_lexer": "ipython3",
   "version": "3.11.2"
  },
  "orig_nbformat": 4
 },
 "nbformat": 4,
 "nbformat_minor": 2
}
