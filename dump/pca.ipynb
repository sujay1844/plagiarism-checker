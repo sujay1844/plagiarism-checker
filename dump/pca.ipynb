{
 "cells": [
  {
   "attachments": {},
   "cell_type": "markdown",
   "metadata": {},
   "source": [
    "# Principle Component Analysis"
   ]
  },
  {
   "cell_type": "code",
   "execution_count": null,
   "metadata": {},
   "outputs": [],
   "source": [
    "import pandas as pd\n",
    "import numpy as np\n",
    "import matplotlib.pyplot as plt\n",
    "from sklearn.preprocessing import StandardScaler\n",
    "from sklearn.model_selection import train_test_split"
   ]
  },
  {
   "cell_type": "code",
   "execution_count": null,
   "metadata": {},
   "outputs": [],
   "source": [
    "df = pd.read_csv(\"./winequality-red.csv\")\n",
    "pd.set_option('display.float_format', lambda x: '%.2f' % x)\n",
    "df.head()"
   ]
  },
  {
   "cell_type": "code",
   "execution_count": null,
   "metadata": {},
   "outputs": [],
   "source": [
    "df.describe().T"
   ]
  },
  {
   "cell_type": "code",
   "execution_count": null,
   "metadata": {},
   "outputs": [],
   "source": [
    "y = df['quality']\n",
    "df = df.drop('quality', axis=1)"
   ]
  },
  {
   "cell_type": "code",
   "execution_count": null,
   "metadata": {},
   "outputs": [],
   "source": [
    "def compute_pca(df, n_components):\n",
    "    # Standardize the data\n",
    "    X_std = StandardScaler().fit_transform(df)\n",
    "    # Create covariance matrix\n",
    "    cov_mat = np.cov(X_std.T)\n",
    "    # Calculate eigenvalues and eigenvectors\n",
    "    eig_vals, eig_vecs = np.linalg.eig(cov_mat)\n",
    "    # Sort eigenvalues and eigenvectors\n",
    "    eig_pairs = [(np.abs(eig_vals[i]), eig_vecs[:,i]) for i in range(len(eig_vals))]\n",
    "    eig_pairs.sort(key=lambda x: x[0], reverse=True)\n",
    "    # Create matrix with eigenvectors\n",
    "    matrix_w = np.hstack([eig_pairs[i][1].reshape(df.shape[1],1) for i in range(n_components)])\n",
    "    # Project data onto new subspace\n",
    "    Y = X_std.dot(matrix_w)\n",
    "    return Y"
   ]
  },
  {
   "cell_type": "code",
   "execution_count": null,
   "metadata": {},
   "outputs": [],
   "source": [
    "def compute_pca(X, n_components=2):\n",
    "  \n",
    "    #Normalization\n",
    "    X_demeaned = StandardScaler(with_std=True).fit_transform(X)\n",
    "    print(\"Matrix X After Normalization:- \\n\",X_demeaned[:10])\n",
    "    \n",
    "    #Calculation of covariance matrix \n",
    "    covariance_matrix = np.cov(X_demeaned, rowvar=False)\n",
    "    print(\"\\nCovariance matrix:-\\n\",covariance_matrix)\n",
    "    \n",
    "    #eigen value and eigen vector calculation\n",
    "    eigen_vals, eigen_vecs = np.linalg.eigh(covariance_matrix)\n",
    "    print(f\"\\nEigenvalues\\n{eigen_vals}\\n\\nEigenvectors\\n{eigen_vecs}\\n\")\n",
    "   \n",
    "    idx_sorted = np.argsort(eigen_vals)\n",
    "    \n",
    "    #Decreasing order\n",
    "    decreasing_index = idx_sorted[::-1]\n",
    "\n",
    "    # sort eigenvectors using the idx_sorted_decreasing indices\n",
    "    eigen_vecs_sorted = eigen_vecs[:,decreasing_index]\n",
    "\n",
    "    # n_components is desired dimension\n",
    "    # of rescaled data array, or eigen_vecs_sorted\n",
    "    eigen_vecs_subset = eigen_vecs_sorted[:,:n_components]\n",
    "\n",
    "    # transform the data by multiplying the transpose of the eigenvectors \n",
    "    # with the transpose of the de-meaned data\n",
    "    # Then take the transpose of that product.\n",
    "    X_reduced = np.dot(eigen_vecs_subset.T,X_demeaned.T).T\n",
    "    return X_reduced"
   ]
  },
  {
   "cell_type": "code",
   "execution_count": null,
   "metadata": {},
   "outputs": [],
   "source": [
    "# df = compute_pca(df, 2)"
   ]
  },
  {
   "cell_type": "code",
   "execution_count": null,
   "metadata": {},
   "outputs": [],
   "source": [
    "X_train, X_test, y_train, y_test = train_test_split(df, y, test_size=0.2, random_state=42)\n",
    "X_train.shape[1]"
   ]
  },
  {
   "cell_type": "code",
   "execution_count": null,
   "metadata": {},
   "outputs": [],
   "source": [
    "# CNN using tensorflow\n",
    "import tensorflow as tf\n",
    "from tensorflow import keras\n",
    "from tensorflow.keras import layers\n",
    "from tensorflow.keras.models import Sequential\n",
    "from tensorflow.keras.layers import Dense, Dropout, Activation, Flatten, Conv2D, MaxPooling2D\n",
    "\n",
    "model = Sequential([\n",
    "\t    layers.Dense(64, activation='relu', input_shape=(X_train.shape[1],)),\n",
    "\t    layers.Dense(64, activation='relu'),\n",
    "\t    layers.Dense(1, activation='sigmoid'),\n",
    "])\n",
    "model.compile(optimizer='adam',\n",
    "\t      loss='binary_crossentropy',\n",
    "\t\tmetrics=['accuracy'])"
   ]
  },
  {
   "cell_type": "code",
   "execution_count": null,
   "metadata": {},
   "outputs": [],
   "source": [
    "model.fit(X_train, y_train, validation_data=(X_test, y_test), epochs=10, batch_size=32, validation_split=0.2)"
   ]
  },
  {
   "cell_type": "code",
   "execution_count": null,
   "metadata": {},
   "outputs": [],
   "source": []
  }
 ],
 "metadata": {
  "kernelspec": {
   "display_name": "ml",
   "language": "python",
   "name": "python3"
  },
  "language_info": {
   "codemirror_mode": {
    "name": "ipython",
    "version": 3
   },
   "file_extension": ".py",
   "mimetype": "text/x-python",
   "name": "python",
   "nbconvert_exporter": "python",
   "pygments_lexer": "ipython3",
   "version": "3.10.9"
  },
  "orig_nbformat": 4,
  "vscode": {
   "interpreter": {
    "hash": "483c1676b37f8d4930ed37ec1ba56f4db158e67cf5cc60a5bba9f19e5aa8cc92"
   }
  }
 },
 "nbformat": 4,
 "nbformat_minor": 2
}
