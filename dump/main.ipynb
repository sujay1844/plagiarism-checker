{
 "cells": [
  {
   "cell_type": "code",
   "execution_count": 3,
   "metadata": {},
   "outputs": [],
   "source": [
    "import nltk\n",
    "from nltk.tokenize import word_tokenize\n",
    "from nltk.tokenize import sent_tokenize\n",
    "from nltk.corpus import stopwords\n",
    "import string\n",
    "nltk.data.path.append('/home/sujay1844/.local/share/nltk_data/')"
   ]
  },
  {
   "cell_type": "code",
   "execution_count": 4,
   "metadata": {},
   "outputs": [],
   "source": [
    "orig = \"According to a recent study published in the Journal of Sleep Research, regular exercise can improve the quality of sleep in adults. The study followed a group of sedentary adults who began a six-month exercise program, and found that they experienced significant improvements in both the amount and quality of their sleep. Specifically, participants reported falling asleep faster, staying asleep longer, and feeling more rested upon waking after they had been exercising regularly for several months.\"\n",
    "\n",
    "test = \"Based on a recent research article published in the Journal of Sleep Research, consistent exercise can enhance the quality of sleep in grown-ups. The research tracked a group of inactive adults who initiated a six-month fitness routine, and discovered that they encountered considerable enhancements in both the amount and quality of their sleep. More specifically, participants indicated that they fell asleep more quickly, slept for longer periods, and felt more refreshed upon waking after several months of regular exercise.\""
   ]
  },
  {
   "cell_type": "code",
   "execution_count": 5,
   "metadata": {},
   "outputs": [],
   "source": [
    "# Tokenize\n",
    "raw_tokens_orig = word_tokenize(orig)\n",
    "raw_tokens_test = word_tokenize(test)"
   ]
  },
  {
   "cell_type": "code",
   "execution_count": 6,
   "metadata": {},
   "outputs": [],
   "source": [
    "# Lower case\n",
    "tokens_orig = [w.lower() for w in raw_tokens_orig]\n",
    "tokens_test = [w.lower() for w in raw_tokens_test]"
   ]
  },
  {
   "cell_type": "code",
   "execution_count": 7,
   "metadata": {},
   "outputs": [],
   "source": [
    "# Remove punctuation and stopwords\n",
    "table = str.maketrans('', '', string.punctuation)\n",
    "stop_words = set(stopwords.words('english'))\n",
    "words_orig = [w.translate(table) for w in tokens_orig if not w in stop_words]\n",
    "words_test = [w.translate(table) for w in tokens_test if not w in stop_words]"
   ]
  },
  {
   "cell_type": "code",
   "execution_count": 8,
   "metadata": {},
   "outputs": [
    {
     "data": {
      "text/plain": [
       "['according',\n",
       " 'recent',\n",
       " 'study',\n",
       " 'published',\n",
       " 'journal',\n",
       " 'sleep',\n",
       " 'research',\n",
       " '',\n",
       " 'regular',\n",
       " 'exercise',\n",
       " 'improve',\n",
       " 'quality',\n",
       " 'sleep',\n",
       " 'adults',\n",
       " '',\n",
       " 'study',\n",
       " 'followed',\n",
       " 'group',\n",
       " 'sedentary',\n",
       " 'adults',\n",
       " 'began',\n",
       " 'sixmonth',\n",
       " 'exercise',\n",
       " 'program',\n",
       " '',\n",
       " 'found',\n",
       " 'experienced',\n",
       " 'significant',\n",
       " 'improvements',\n",
       " 'amount',\n",
       " 'quality',\n",
       " 'sleep',\n",
       " '',\n",
       " 'specifically',\n",
       " '',\n",
       " 'participants',\n",
       " 'reported',\n",
       " 'falling',\n",
       " 'asleep',\n",
       " 'faster',\n",
       " '',\n",
       " 'staying',\n",
       " 'asleep',\n",
       " 'longer',\n",
       " '',\n",
       " 'feeling',\n",
       " 'rested',\n",
       " 'upon',\n",
       " 'waking',\n",
       " 'exercising',\n",
       " 'regularly',\n",
       " 'several',\n",
       " 'months',\n",
       " '']"
      ]
     },
     "execution_count": 8,
     "metadata": {},
     "output_type": "execute_result"
    }
   ],
   "source": [
    "words_orig"
   ]
  },
  {
   "cell_type": "code",
   "execution_count": 57,
   "metadata": {},
   "outputs": [],
   "source": [
    "# n-grams\n",
    "n = 3\n",
    "ngrams_orig = zip(*[words_orig[i:] for i in range(n)])\n",
    "ngrams_test = zip(*[words_test[i:] for i in range(n)])\n"
   ]
  },
  {
   "cell_type": "code",
   "execution_count": 60,
   "metadata": {},
   "outputs": [
    {
     "data": {
      "text/plain": [
       "array([[0., 1., 0., 0., 0., 0., 0., 0., 0., 0., 0., 0., 0., 0., 0., 0.,\n",
       "        0., 0., 0., 0., 0., 0., 0., 0., 0., 0., 0., 0., 0., 0., 0., 0.,\n",
       "        0., 0., 0., 0., 0., 0., 0., 0., 0., 0., 0., 0., 0., 0., 0., 0.,\n",
       "        0., 0., 0., 0., 0., 0.]])"
      ]
     },
     "execution_count": 60,
     "metadata": {},
     "output_type": "execute_result"
    }
   ],
   "source": []
  },
  {
   "cell_type": "code",
   "execution_count": 7,
   "metadata": {},
   "outputs": [],
   "source": [
    "def lcs(l1,l2):\n",
    "    s1=word_tokenize(l1)\n",
    "    s2=word_tokenize(l2)\n",
    "    # storing the dp values \n",
    "    dp = [[None]*(len(s1)+1) for i in range(len(s2)+1)] \n",
    "  \n",
    "    for i in range(len(s2)+1): \n",
    "        for j in range(len(s1)+1): \n",
    "            if i == 0 or j == 0: \n",
    "                dp[i][j] = 0\n",
    "            elif s2[i-1] == s1[j-1]: \n",
    "                dp[i][j] = dp[i-1][j-1]+1\n",
    "            else: \n",
    "                dp[i][j] = max(dp[i-1][j] , dp[i][j-1]) \n",
    "    return dp[len(s2)][len(s1)] "
   ]
  },
  {
   "cell_type": "code",
   "execution_count": 8,
   "metadata": {},
   "outputs": [
    {
     "name": "stdout",
     "output_type": "stream",
     "text": [
      "0.6206896551724138\n"
     ]
    }
   ],
   "source": [
    "sent_o=sent_tokenize(orig)\n",
    "sent_p=sent_tokenize(test)\n",
    "\n",
    "#maximum length of LCS for a sentence in suspicious text\n",
    "max_lcs=0\n",
    "sum_lcs=0\n",
    "\n",
    "for i in sent_p:\n",
    "    for j in sent_o:\n",
    "        l=lcs(i,j)\n",
    "        max_lcs=max(max_lcs,l)\n",
    "    sum_lcs+=max_lcs\n",
    "    max_lcs=0\n",
    "\n",
    "score=sum_lcs/len(raw_tokens_test)\n",
    "print(score)"
   ]
  }
 ],
 "metadata": {
  "kernelspec": {
   "display_name": "plagiarism-checker-C_ALrIvo",
   "language": "python",
   "name": "python3"
  },
  "language_info": {
   "codemirror_mode": {
    "name": "ipython",
    "version": 3
   },
   "file_extension": ".py",
   "mimetype": "text/x-python",
   "name": "python",
   "nbconvert_exporter": "python",
   "pygments_lexer": "ipython3",
   "version": "3.11.2"
  },
  "orig_nbformat": 4
 },
 "nbformat": 4,
 "nbformat_minor": 2
}
