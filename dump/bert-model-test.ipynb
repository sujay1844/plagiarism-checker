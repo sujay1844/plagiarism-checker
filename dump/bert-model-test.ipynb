{
 "cells": [
  {
   "cell_type": "code",
   "execution_count": 12,
   "metadata": {},
   "outputs": [],
   "source": [
    "import pandas as pd\n",
    "import tensorflow as tf\n",
    "from transformers import TFBertModel, BertTokenizer\n",
    "from tensorflow.keras.preprocessing.sequence import pad_sequences\n",
    "import numpy as np\n",
    "import nltk\n",
    "nltk.data.path.append('/home/sujay1844/.local/share/nltk_data/')\n",
    "from nltk.tokenize import sent_tokenize, word_tokenize\n",
    "import seaborn as sns\n",
    "import matplotlib.pyplot as plt"
   ]
  },
  {
   "cell_type": "code",
   "execution_count": 13,
   "metadata": {},
   "outputs": [
    {
     "name": "stderr",
     "output_type": "stream",
     "text": [
      "Some weights of the PyTorch model were not used when initializing the TF 2.0 model TFBertModel: ['cls.predictions.bias', 'cls.predictions.decoder.bias', 'cls.predictions.transform.LayerNorm.weight', 'cls.seq_relationship.bias', 'cls.predictions.transform.dense.weight', 'cls.predictions.transform.dense.bias', 'cls.predictions.decoder.weight', 'cls.seq_relationship.weight', 'cls.predictions.transform.LayerNorm.bias']\n",
      "- This IS expected if you are initializing TFBertModel from a PyTorch model trained on another task or with another architecture (e.g. initializing a TFBertForSequenceClassification model from a BertForPreTraining model).\n",
      "- This IS NOT expected if you are initializing TFBertModel from a PyTorch model that you expect to be exactly identical (e.g. initializing a TFBertForSequenceClassification model from a BertForSequenceClassification model).\n",
      "All the weights of TFBertModel were initialized from the PyTorch model.\n",
      "If your task is similar to the task the model of the checkpoint was trained on, you can already use TFBertModel for predictions without further training.\n"
     ]
    }
   ],
   "source": [
    "# Load the pre-trained BERT model and tokenizer\n",
    "bert_model = TFBertModel.from_pretrained('google/bert_uncased_L-2_H-128_A-2', from_pt=True)\n",
    "tokenizer = BertTokenizer.from_pretrained('google/bert_uncased_L-2_H-128_A-2', from_pt=True)\n",
    "# Load the model\n",
    "model = tf.keras.models.load_model('./bert-tiny-1k.h5')"
   ]
  },
  {
   "cell_type": "code",
   "execution_count": 14,
   "metadata": {},
   "outputs": [],
   "source": [
    "max_length = 100\n",
    "embedding_size = 128\n",
    "\n",
    "import time\n",
    "def vectorize_and_preprocess(sentence):\n",
    "\n",
    "    input_ids = tokenizer.encode(sentence, add_special_tokens=True)\n",
    "    input_ids = tf.convert_to_tensor([input_ids])\n",
    "\n",
    "    embeddings = bert_model(input_ids)[0][0].numpy()\n",
    "\n",
    "    padded_embeddings = pad_sequences(\n",
    "        [embeddings],\n",
    "        maxlen=max_length,\n",
    "        padding='post',\n",
    "        truncating='post'\n",
    "    )\n",
    "    cnn_input = padded_embeddings.reshape((max_length, embedding_size, 1))\n",
    "    return cnn_input\n",
    "# _ = vectorize_and_preprocess(\"The quick brown fox jumps over the lazy dog.\")"
   ]
  },
  {
   "cell_type": "code",
   "execution_count": 15,
   "metadata": {},
   "outputs": [],
   "source": [
    "def find_similarity(sent1, sent2):\n",
    "\tvector1 = vectorize_and_preprocess(sent1)\n",
    "\tvector2 = vectorize_and_preprocess(sent2)\n",
    "\n",
    "\tvector1 = vector1.reshape((1, max_length, embedding_size, 1))\n",
    "\tvector2 = vector2.reshape((1, max_length, embedding_size, 1))\n",
    "\n",
    "\treturn model.predict([vector1, vector2], verbose=False)"
   ]
  },
  {
   "cell_type": "code",
   "execution_count": 16,
   "metadata": {},
   "outputs": [],
   "source": [
    "def find_similarity_matrix(sents1, sents2):\n",
    "\tsimilarity_matrix = np.zeros((len(sents1), len(sents2)))\n",
    "\n",
    "\tfor i in range(len(sents1)):\n",
    "\t\tfor j in range(len(sents2)):\n",
    "\t\t\tsimilarity_matrix[i][j] = find_similarity(sents1[i], sents2[j])\n",
    "\treturn similarity_matrix"
   ]
  },
  {
   "cell_type": "code",
   "execution_count": 17,
   "metadata": {},
   "outputs": [],
   "source": [
    "# display similarity matrix as a heatmap\n",
    "def display_heatmap(similarity_matrix):\n",
    "\tsns.heatmap(similarity_matrix, cmap='RdYlGn_r', vmin=0, vmax=1)\n",
    "\tplt.show()"
   ]
  },
  {
   "cell_type": "code",
   "execution_count": 18,
   "metadata": {},
   "outputs": [],
   "source": [
    "import time\n",
    "def get_similarity(essay1, essay2, display=False):\n",
    "\tsents1 = sent_tokenize(essay1)\n",
    "\tsents2 = sent_tokenize(essay2)\n",
    "\n",
    "\tstart = time.perf_counter()\n",
    "\n",
    "\tsimilarity_matrix = find_similarity_matrix(sents1, sents2)\n",
    "\n",
    "\tend = time.perf_counter()\n",
    "\ttotal_time = end - start\n",
    "\tavg_time = total_time / (len(sents1) * len(sents2))\n",
    "\n",
    "\tif display:\n",
    "\t\tdisplay_heatmap(similarity_matrix)\n",
    "\n",
    "\treturn {\n",
    "\t\t'similarity_score': similarity_matrix.max(axis=0).mean(),\n",
    "\t\t'total_time': total_time,\n",
    "\t\t'avg_time': avg_time,\n",
    "\t\t# 'similarity_matrix': similarity_matrix,\n",
    "\t\t'essay1': {\n",
    "\t\t\t'sentences': len(sents1),\n",
    "\t\t\t'words': len(word_tokenize(essay1)),\n",
    "\t\t},\n",
    "\t\t'essay2': {\n",
    "\t\t\t'sentences': len(sents2),\n",
    "\t\t\t'words': len(word_tokenize(essay2)),\n",
    "\t\t}\n",
    "\t\t\n",
    "\t}"
   ]
  },
  {
   "cell_type": "code",
   "execution_count": 19,
   "metadata": {},
   "outputs": [],
   "source": [
    "essay1 = \"The Positive Impact of Social Media on the Younger Generation.  Social media has become an integral part of the younger generation's life. It has made communication more accessible and easier than ever before. The younger generation has grown up in a digital world, and social media has become a way of life for them. There are many positive impacts of social media on the younger generation.  One of the significant benefits of social media is that it has brought people closer. It has created a platform where people from different parts of the world can connect and interact. The younger generation has used social media to build relationships and make friends with people they might not have met otherwise.  Social media has also played a crucial role in raising awareness about social issues. The younger generation has used social media to educate themselves about various social issues, and they have used their platforms to raise awareness about issues such as climate change, social justice, and mental health.  Moreover, social media has provided a platform for the younger generation to showcase their talents and skills. Many young people have used social media to launch their careers and gain recognition for their talents.  In conclusion, social media has had a positive impact on the younger generation. It has provided a platform for communication, raised awareness about social issues, and enabled young people to showcase their talents and skills. While there are concerns about the negative impact of social media, it is essential to recognize the positive impact it has had on the younger generation.\"\n",
    "essay2 = \"The Negative Impact of Social Media on the Younger Generation.  Social media has become an integral part of the younger generation's life. It has transformed the way people communicate and interact with each other. While there are many benefits of social media, it has also had a negative impact on the younger generation.  One of the significant negative impacts of social media is its impact on mental health. Social media has been linked to increased levels of anxiety, depression, and loneliness among young people. Young people are constantly exposed to images of perfection and success on social media, which can create unrealistic expectations and cause them to feel inadequate.  Social media has also created a culture of comparison among the younger generation. Young people are constantly comparing themselves to others on social media, which can lead to feelings of envy and dissatisfaction. This can lead to low self-esteem and a negative body image.  Another negative impact of social media is its impact on relationships. Social media has made it easier for people to connect, but it has also made it easier for people to disconnect. The younger generation has become more reliant on social media to communicate with others, which can lead to a lack of face-to-face communication and real connections.  In conclusion, social media has had a negative impact on the younger generation. It has been linked to mental health problems, created a culture of comparison, and affected relationships. While social media has many benefits, it is essential to recognize its negative impact and take steps to minimize its negative effects on the younger generation.\""
   ]
  },
  {
   "cell_type": "code",
   "execution_count": 20,
   "metadata": {},
   "outputs": [
    {
     "data": {
      "image/png": "[encoded data removed]",
      "text/plain": [
       "<Figure size 432x288 with 2 Axes>"
      ]
     },
     "metadata": {
      "needs_background": "light"
     },
     "output_type": "display_data"
    },
    {
     "data": {
      "text/plain": [
       "0.6840739937033504"
      ]
     },
     "execution_count": 20,
     "metadata": {},
     "output_type": "execute_result"
    }
   ],
   "source": [
    "res = get_similarity(essay1, essay2, display=True)\n",
    "res['similarity_score']"
   ]
  },
  {
   "attachments": {},
   "cell_type": "markdown",
   "metadata": {},
   "source": [
    "| Bert | without GPU | with GPU | Similarity score |\n",
    "|----|----|---|---|\n",
    "| Base | 650ms | 90ms | 0.387 |\n",
    "| Tiny | 230ms | 30ms | 0.684 |\n",
    "\n",
    "\n"
   ]
  },
  {
   "cell_type": "code",
   "execution_count": 22,
   "metadata": {},
   "outputs": [
    {
     "data": {
      "text/plain": [
       "0.23528089810000286"
      ]
     },
     "execution_count": 22,
     "metadata": {},
     "output_type": "execute_result"
    }
   ],
   "source": [
    "res['avg_time']"
   ]
  },
  {
   "cell_type": "code",
   "execution_count": null,
   "metadata": {},
   "outputs": [],
   "source": []
  }
 ],
 "metadata": {
  "kernelspec": {
   "display_name": "ml",
   "language": "python",
   "name": "python3"
  },
  "language_info": {
   "codemirror_mode": {
    "name": "ipython",
    "version": 3
   },
   "file_extension": ".py",
   "mimetype": "text/x-python",
   "name": "python",
   "nbconvert_exporter": "python",
   "pygments_lexer": "ipython3",
   "version": "3.10.9"
  },
  "orig_nbformat": 4
 },
 "nbformat": 4,
 "nbformat_minor": 2
}
