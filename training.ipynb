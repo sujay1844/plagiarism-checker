{
 "cells": [
  {
   "cell_type": "code",
   "execution_count": 1,
   "metadata": {},
   "outputs": [
    {
     "name": "stderr",
     "output_type": "stream",
     "text": [
      "2023-04-07 07:13:30.872306: I tensorflow/core/platform/cpu_feature_guard.cc:193] This TensorFlow binary is optimized with oneAPI Deep Neural Network Library (oneDNN) to use the following CPU instructions in performance-critical operations:  SSE4.1 SSE4.2 AVX AVX2 FMA\n",
      "To enable them in other operations, rebuild TensorFlow with the appropriate compiler flags.\n"
     ]
    }
   ],
   "source": [
    "import pandas as pd\n",
    "import tensorflow as tf\n",
    "from transformers import TFBertModel, BertTokenizer\n",
    "from tensorflow.keras.preprocessing.sequence import pad_sequences\n",
    "import numpy as np\n",
    "from sklearn.model_selection import train_test_split"
   ]
  },
  {
   "cell_type": "code",
   "execution_count": 2,
   "metadata": {},
   "outputs": [
    {
     "data": {
      "text/html": [
       "<div>\n",
       "<style scoped>\n",
       "    .dataframe tbody tr th:only-of-type {\n",
       "        vertical-align: middle;\n",
       "    }\n",
       "\n",
       "    .dataframe tbody tr th {\n",
       "        vertical-align: top;\n",
       "    }\n",
       "\n",
       "    .dataframe thead th {\n",
       "        text-align: right;\n",
       "    }\n",
       "</style>\n",
       "<table border=\"1\" class=\"dataframe\">\n",
       "  <thead>\n",
       "    <tr style=\"text-align: right;\">\n",
       "      <th></th>\n",
       "      <th>sentence1</th>\n",
       "      <th>sentence2</th>\n",
       "      <th>label</th>\n",
       "    </tr>\n",
       "  </thead>\n",
       "  <tbody>\n",
       "    <tr>\n",
       "      <th>0</th>\n",
       "      <td>A person on a horse jumps over a broken down a...</td>\n",
       "      <td>A person is at a diner, ordering an omelette.</td>\n",
       "      <td>0</td>\n",
       "    </tr>\n",
       "    <tr>\n",
       "      <th>1</th>\n",
       "      <td>A person on a horse jumps over a broken down a...</td>\n",
       "      <td>A person is outdoors, on a horse.</td>\n",
       "      <td>1</td>\n",
       "    </tr>\n",
       "    <tr>\n",
       "      <th>2</th>\n",
       "      <td>Children smiling and waving at camera</td>\n",
       "      <td>There are children present</td>\n",
       "      <td>1</td>\n",
       "    </tr>\n",
       "    <tr>\n",
       "      <th>3</th>\n",
       "      <td>Children smiling and waving at camera</td>\n",
       "      <td>The kids are frowning</td>\n",
       "      <td>0</td>\n",
       "    </tr>\n",
       "    <tr>\n",
       "      <th>4</th>\n",
       "      <td>A boy is jumping on skateboard in the middle o...</td>\n",
       "      <td>The boy skates down the sidewalk.</td>\n",
       "      <td>0</td>\n",
       "    </tr>\n",
       "  </tbody>\n",
       "</table>\n",
       "</div>"
      ],
      "text/plain": [
       "                                           sentence1  \\\n",
       "0  A person on a horse jumps over a broken down a...   \n",
       "1  A person on a horse jumps over a broken down a...   \n",
       "2              Children smiling and waving at camera   \n",
       "3              Children smiling and waving at camera   \n",
       "4  A boy is jumping on skateboard in the middle o...   \n",
       "\n",
       "                                       sentence2  label  \n",
       "0  A person is at a diner, ordering an omelette.      0  \n",
       "1              A person is outdoors, on a horse.      1  \n",
       "2                     There are children present      1  \n",
       "3                          The kids are frowning      0  \n",
       "4              The boy skates down the sidewalk.      0  "
      ]
     },
     "execution_count": 2,
     "metadata": {},
     "output_type": "execute_result"
    }
   ],
   "source": [
    "df = pd.read_csv(\n",
    "\t'./train_snli.txt.zip',\n",
    "\tsep='\\t',\n",
    "\theader=None,\n",
    "\tnames=['sentence1', 'sentence2', 'label']\n",
    ")[:1000]\n",
    "df.head()"
   ]
  },
  {
   "cell_type": "code",
   "execution_count": 3,
   "metadata": {},
   "outputs": [
    {
     "name": "stderr",
     "output_type": "stream",
     "text": [
      "2023-04-07 07:13:34.017099: I tensorflow/core/platform/cpu_feature_guard.cc:193] This TensorFlow binary is optimized with oneAPI Deep Neural Network Library (oneDNN) to use the following CPU instructions in performance-critical operations:  SSE4.1 SSE4.2 AVX AVX2 FMA\n",
      "To enable them in other operations, rebuild TensorFlow with the appropriate compiler flags.\n",
      "2023-04-07 07:13:34.019315: I tensorflow/core/common_runtime/process_util.cc:146] Creating new thread pool with default inter op setting: 2. Tune using inter_op_parallelism_threads for best performance.\n",
      "Some weights of the PyTorch model were not used when initializing the TF 2.0 model TFBertModel: ['cls.predictions.transform.LayerNorm.bias', 'cls.predictions.decoder.weight', 'cls.predictions.transform.dense.weight', 'cls.seq_relationship.weight', 'cls.predictions.transform.LayerNorm.weight', 'cls.predictions.decoder.bias', 'cls.seq_relationship.bias', 'cls.predictions.transform.dense.bias', 'cls.predictions.bias']\n",
      "- This IS expected if you are initializing TFBertModel from a PyTorch model trained on another task or with another architecture (e.g. initializing a TFBertForSequenceClassification model from a BertForPreTraining model).\n",
      "- This IS NOT expected if you are initializing TFBertModel from a PyTorch model that you expect to be exactly identical (e.g. initializing a TFBertForSequenceClassification model from a BertForSequenceClassification model).\n",
      "All the weights of TFBertModel were initialized from the PyTorch model.\n",
      "If your task is similar to the task the model of the checkpoint was trained on, you can already use TFBertModel for predictions without further training.\n"
     ]
    }
   ],
   "source": [
    "# Load the pre-trained BERT model and tokenizer\n",
    "model = TFBertModel.from_pretrained('google/bert_uncased_L-2_H-128_A-2', from_pt=True)\n",
    "tokenizer = BertTokenizer.from_pretrained('google/bert_uncased_L-2_H-128_A-2', from_pt=True)"
   ]
  },
  {
   "cell_type": "code",
   "execution_count": 4,
   "metadata": {},
   "outputs": [],
   "source": [
    "max_length = 100\n",
    "embedding_size = 128\n",
    "# Vectorize sentences using BERT and preprocess vectors for CNN input\n",
    "def vectorize_and_preprocess(sentence):\n",
    "    input_ids = tokenizer.encode(sentence, add_special_tokens=True)\n",
    "    input_ids = tf.convert_to_tensor([input_ids])\n",
    "\n",
    "    embeddings = model(input_ids)[0][0].numpy()\n",
    "    \n",
    "    padded_embeddings = pad_sequences(\n",
    "        [embeddings],\n",
    "        maxlen=max_length,\n",
    "        padding='post',\n",
    "        truncating='post'\n",
    "    )\n",
    "    # Reshape padded embeddings into a 3D array suitable for CNN input\n",
    "    cnn_input = padded_embeddings.reshape((max_length, embedding_size, 1))\n",
    "    return cnn_input"
   ]
  },
  {
   "cell_type": "code",
   "execution_count": 5,
   "metadata": {},
   "outputs": [],
   "source": [
    "df['vectors1'] = df['sentence1'].apply(vectorize_and_preprocess)"
   ]
  },
  {
   "cell_type": "code",
   "execution_count": 6,
   "metadata": {},
   "outputs": [],
   "source": [
    "df['vectors2'] = df['sentence2'].apply(vectorize_and_preprocess)"
   ]
  },
  {
   "cell_type": "code",
   "execution_count": 7,
   "metadata": {},
   "outputs": [],
   "source": [
    "vectors1 = np.reshape(np.array(df['vectors1'].tolist()), (len(df), max_length, embedding_size, 1))\n",
    "vectors2 = np.reshape(np.array(df['vectors2'].tolist()), (len(df), max_length, embedding_size, 1))"
   ]
  },
  {
   "cell_type": "code",
   "execution_count": 8,
   "metadata": {},
   "outputs": [],
   "source": [
    "# Define the input shape\n",
    "input_shape = (max_length, embedding_size, 1)\n",
    "\n",
    "# Define the input layers for vectors1 and vectors2\n",
    "input1 = tf.keras.layers.Input(shape=input_shape, name='vectors1')\n",
    "input2 = tf.keras.layers.Input(shape=input_shape, name='vectors2')\n",
    "\n",
    "# Define the convolutional layers\n",
    "conv1 = tf.keras.layers.Conv2D(filters=32, kernel_size=(3,3), activation='relu')\n",
    "conv2 = tf.keras.layers.Conv2D(filters=64, kernel_size=(3,3), activation='relu')\n",
    "pooling = tf.keras.layers.MaxPooling2D(pool_size=(2,2))\n",
    "\n",
    "# Define the dense layers\n",
    "flatten = tf.keras.layers.Flatten()\n",
    "dense1 = tf.keras.layers.Dense(units=128, activation='relu')\n",
    "dense2 = tf.keras.layers.Dense(units=64, activation='relu')\n",
    "output_layer = tf.keras.layers.Dense(units=1, activation='sigmoid')\n",
    "\n",
    "# Connect the layers\n",
    "x1 = conv1(input1)\n",
    "x1 = pooling(x1)\n",
    "x1 = conv2(x1)\n",
    "x1 = pooling(x1)\n",
    "x1 = flatten(x1)\n",
    "x1 = dense1(x1)\n",
    "x1 = dense2(x1)\n",
    "\n",
    "x2 = conv1(input2)\n",
    "x2 = pooling(x2)\n",
    "x2 = conv2(x2)\n",
    "x2 = pooling(x2)\n",
    "x2 = flatten(x2)\n",
    "x2 = dense1(x2)\n",
    "x2 = dense2(x2)\n",
    "\n",
    "# Combine the two inputs and pass through the output layer\n",
    "merged = tf.keras.layers.concatenate([x1, x2])\n",
    "output = output_layer(merged)\n",
    "\n",
    "# Define the model\n",
    "model = tf.keras.models.Model(inputs=[input1, input2], outputs=output)\n",
    "\n",
    "# Compile the model\n",
    "model.compile(optimizer='adam', loss='binary_crossentropy', metrics=['accuracy'])"
   ]
  },
  {
   "cell_type": "code",
   "execution_count": 9,
   "metadata": {},
   "outputs": [],
   "source": [
    "vectors1_train, vectors1_test, vectors2_train, vectors2_test, y_train, y_test = train_test_split(vectors1, vectors2, df['label'], test_size=0.2, random_state=42)"
   ]
  },
  {
   "cell_type": "code",
   "execution_count": 10,
   "metadata": {},
   "outputs": [
    {
     "name": "stdout",
     "output_type": "stream",
     "text": [
      "Epoch 1/10\n",
      "25/25 [==============================] - 11s 424ms/step - loss: 0.7225 - accuracy: 0.4988 - val_loss: 0.6932 - val_accuracy: 0.4650\n",
      "Epoch 2/10\n",
      "25/25 [==============================] - 11s 449ms/step - loss: 0.6889 - accuracy: 0.5537 - val_loss: 0.6929 - val_accuracy: 0.5050\n",
      "Epoch 3/10\n",
      "25/25 [==============================] - 11s 430ms/step - loss: 0.6820 - accuracy: 0.5775 - val_loss: 0.6950 - val_accuracy: 0.5550\n",
      "Epoch 4/10\n",
      "25/25 [==============================] - 11s 434ms/step - loss: 0.6689 - accuracy: 0.5913 - val_loss: 0.6917 - val_accuracy: 0.5400\n",
      "Epoch 5/10\n",
      "25/25 [==============================] - 11s 445ms/step - loss: 0.6439 - accuracy: 0.6425 - val_loss: 0.7142 - val_accuracy: 0.5350\n",
      "Epoch 6/10\n",
      "25/25 [==============================] - 11s 455ms/step - loss: 0.6009 - accuracy: 0.6938 - val_loss: 0.7414 - val_accuracy: 0.5200\n",
      "Epoch 7/10\n",
      "25/25 [==============================] - 11s 441ms/step - loss: 0.5169 - accuracy: 0.7487 - val_loss: 0.7340 - val_accuracy: 0.5750\n",
      "Epoch 8/10\n",
      "25/25 [==============================] - 11s 461ms/step - loss: 0.4518 - accuracy: 0.8100 - val_loss: 0.7986 - val_accuracy: 0.5400\n",
      "Epoch 9/10\n",
      "25/25 [==============================] - 12s 466ms/step - loss: 0.3465 - accuracy: 0.8612 - val_loss: 0.9045 - val_accuracy: 0.6050\n",
      "Epoch 10/10\n",
      "25/25 [==============================] - 11s 454ms/step - loss: 0.2580 - accuracy: 0.8988 - val_loss: 1.0937 - val_accuracy: 0.5650\n"
     ]
    },
    {
     "data": {
      "text/plain": [
       "<keras.callbacks.History at 0x7f5622b6a830>"
      ]
     },
     "execution_count": 10,
     "metadata": {},
     "output_type": "execute_result"
    }
   ],
   "source": [
    "# Train the model\n",
    "model.fit(\n",
    "\t[vectors1_train, vectors2_train], y_train,\n",
    "\tepochs=10, batch_size=32,\n",
    "\tvalidation_data=([vectors1_test, vectors2_test], y_test)\n",
    ")\n",
    "\n",
    "# Final training\n",
    "# model.fit([vectors1, vectors2], df['label'], epochs=10, batch_size=32)"
   ]
  },
  {
   "cell_type": "code",
   "execution_count": 12,
   "metadata": {},
   "outputs": [],
   "source": [
    "model.save('bert-tiny-1k.h5')"
   ]
  },
  {
   "cell_type": "code",
   "execution_count": null,
   "metadata": {},
   "outputs": [],
   "source": []
  }
 ],
 "metadata": {
  "kernelspec": {
   "display_name": "ml",
   "language": "python",
   "name": "python3"
  },
  "language_info": {
   "codemirror_mode": {
    "name": "ipython",
    "version": 3
   },
   "file_extension": ".py",
   "mimetype": "text/x-python",
   "name": "python",
   "nbconvert_exporter": "python",
   "pygments_lexer": "ipython3",
   "version": "3.10.9"
  },
  "orig_nbformat": 4
 },
 "nbformat": 4,
 "nbformat_minor": 2
}
